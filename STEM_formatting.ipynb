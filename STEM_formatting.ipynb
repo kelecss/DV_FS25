{
  "metadata": {
    "kernelspec": {
      "name": "python",
      "display_name": "Python (Pyodide)",
      "language": "python"
    },
    "language_info": {
      "codemirror_mode": {
        "name": "python",
        "version": 3
      },
      "file_extension": ".py",
      "mimetype": "text/x-python",
      "name": "python",
      "nbconvert_exporter": "python",
      "pygments_lexer": "ipython3",
      "version": "3.8"
    }
  },
  "nbformat_minor": 5,
  "nbformat": 4,
  "cells": [
    {
      "id": "341b5006-45aa-462b-9078-8d5ecc92ac34",
      "cell_type": "code",
      "source": "import pandas as pd\n\ndf_global = pd.read_csv('women_in_stem.csv')  \ndf_us     = pd.read_csv('Visualizing Gender Gap in College Degrees.csv')  \n#df_world  = pd.read_csv('World Educational Data.csv', encoding='latin1')  \n\n# Quick inspection\nprint(df_global.columns) \nprint(df_us.columns)      \n#print(df_world.columns)   ",
      "metadata": {
        "trusted": true
      },
      "outputs": [
        {
          "name": "stdout",
          "output_type": "stream",
          "text": "Index(['Country', 'Year', 'Female Enrollment (%)',\n       'Female Graduation Rate (%)', 'STEM Fields', 'Gender Gap Index'],\n      dtype='object')\nIndex(['Year', 'Agriculture', 'Architecture', 'Art and Performance', 'Biology',\n       'Business', 'Communications and Journalism', 'Computer Science',\n       'Education', 'Engineering', 'English', 'Foreign Languages',\n       'Health Professions', 'Math and Statistics', 'Physical Sciences',\n       'Psychology', 'Public Administration', 'Social Sciences and History'],\n      dtype='object')\n"
        }
      ],
      "execution_count": 1
    },
    {
      "id": "50ce5821-39e1-42e8-9bad-0020a379d948",
      "cell_type": "code",
      "source": "#rename certain fields\n\ndf_global.rename(columns={\n    'Country': 'Country',\n    'Year': 'Year',\n    'STEM Fields': 'Field',\n    'Female Enrollment (%)': 'FemalePercent_Global'\n}, inplace=True)  \n",
      "metadata": {
        "trusted": true
      },
      "outputs": [],
      "execution_count": 2
    },
    {
      "id": "5d17d9ca-a881-4234-8f27-99f0d2516b3b",
      "cell_type": "code",
      "source": "print(df_global.columns)",
      "metadata": {
        "trusted": true
      },
      "outputs": [
        {
          "name": "stdout",
          "output_type": "stream",
          "text": "Index(['Country', 'Year', 'FemalePercent_Global', 'Female Graduation Rate (%)',\n       'Field', 'Gender Gap Index'],\n      dtype='object')\n"
        }
      ],
      "execution_count": 3
    },
    {
      "id": "0a29ca94-6ed2-4d2d-8bb7-8bfe28dbe1f4",
      "cell_type": "code",
      "source": "#after analysing the data i noticed i missed biology from the dataset and its a stem ",
      "metadata": {
        "trusted": true
      },
      "outputs": [],
      "execution_count": 4
    },
    {
      "id": "86c4d31f-e438-4845-b080-d455c23b35e1",
      "cell_type": "code",
      "source": "print(df_global[\n    df_global['Field']\n    .str.contains('Science|Technology|Engineering|Mathematics|Biology', regex=True, case=False)\n] )",
      "metadata": {
        "trusted": true
      },
      "outputs": [
        {
          "name": "stdout",
          "output_type": "stream",
          "text": "       Country  Year  FemalePercent_Global  Female Graduation Rate (%)  \\\n0    Australia  2000                  68.0                        31.3   \n1    Australia  2000                  55.0                        43.1   \n2    Australia  2000                  68.2                        62.5   \n3    Australia  2000                  25.3                        41.7   \n4    Australia  2000                  50.8                        27.6   \n..         ...   ...                   ...                         ...   \n495        USA  2023                  38.0                        39.4   \n496        USA  2023                  52.5                        22.7   \n497        USA  2023                  46.3                        43.4   \n498        USA  2023                  26.7                        22.8   \n499        USA  2023                  24.2                        14.2   \n\n                Field  Gender Gap Index  \n0         Engineering              0.51  \n1         Mathematics              0.98  \n2             Biology              0.99  \n3    Computer Science              0.97  \n4         Mathematics              0.76  \n..                ...               ...  \n495           Biology              0.75  \n496           Biology              0.65  \n497       Mathematics              0.58  \n498       Engineering              0.89  \n499           Biology              0.55  \n\n[500 rows x 6 columns]\n"
        }
      ],
      "execution_count": 5
    },
    {
      "id": "4d1da676-0f6a-403f-9c9a-75ff669d4f7b",
      "cell_type": "code",
      "source": "df_global = df_global[\n    df_global['Field']\n    .str.contains('Science|Technology|Engineering|Mathematics|Biology', regex=True, case=False)\n]",
      "metadata": {
        "trusted": true
      },
      "outputs": [],
      "execution_count": 6
    },
    {
      "id": "a21f0a33-9bd6-446c-a8b2-1be9df8924cd",
      "cell_type": "code",
      "source": "print(df_global)",
      "metadata": {
        "trusted": true
      },
      "outputs": [
        {
          "name": "stdout",
          "output_type": "stream",
          "text": "       Country  Year  FemalePercent_Global  Female Graduation Rate (%)  \\\n0    Australia  2000                  68.0                        31.3   \n1    Australia  2000                  55.0                        43.1   \n2    Australia  2000                  68.2                        62.5   \n3    Australia  2000                  25.3                        41.7   \n4    Australia  2000                  50.8                        27.6   \n..         ...   ...                   ...                         ...   \n495        USA  2023                  38.0                        39.4   \n496        USA  2023                  52.5                        22.7   \n497        USA  2023                  46.3                        43.4   \n498        USA  2023                  26.7                        22.8   \n499        USA  2023                  24.2                        14.2   \n\n                Field  Gender Gap Index  \n0         Engineering              0.51  \n1         Mathematics              0.98  \n2             Biology              0.99  \n3    Computer Science              0.97  \n4         Mathematics              0.76  \n..                ...               ...  \n495           Biology              0.75  \n496           Biology              0.65  \n497       Mathematics              0.58  \n498       Engineering              0.89  \n499           Biology              0.55  \n\n[500 rows x 6 columns]\n"
        }
      ],
      "execution_count": 7
    },
    {
      "id": "cdc879ff-83e0-4372-975b-4c65337609ff",
      "cell_type": "code",
      "source": "#up there i filtered the fields column to remove all non_STEM subjects",
      "metadata": {
        "trusted": true
      },
      "outputs": [],
      "execution_count": 8
    },
    {
      "id": "9db6d9a2-4f04-4155-ae36-0c794d12b04e",
      "cell_type": "code",
      "source": "#Now the second data set\n\n\n#Visualizing gender gap in coll",
      "metadata": {
        "trusted": true
      },
      "outputs": [],
      "execution_count": 9
    },
    {
      "id": "3824e391-4c55-4e11-9c60-83679d094245",
      "cell_type": "code",
      "source": "# transform the df_us from a wideformat df to a longformat df so we can create a time series with the df_global \n\ndf_us_long = df_us.melt(\n    id_vars=['Year'],\n    var_name='Field',\n    value_name='FemalePercent_US'\n)",
      "metadata": {
        "trusted": true
      },
      "outputs": [],
      "execution_count": 10
    },
    {
      "id": "73944d67-2ec7-4b4f-aca4-80bd90e59245",
      "cell_type": "code",
      "source": "print(df_us_long)",
      "metadata": {
        "trusted": true
      },
      "outputs": [
        {
          "name": "stdout",
          "output_type": "stream",
          "text": "     Year                        Field  FemalePercent_US\n0    1970                  Agriculture          4.229798\n1    1971                  Agriculture          5.452797\n2    1972                  Agriculture          7.420710\n3    1973                  Agriculture          9.653602\n4    1974                  Agriculture         14.074623\n..    ...                          ...               ...\n709  2007  Social Sciences and History         49.300000\n710  2008  Social Sciences and History         49.400000\n711  2009  Social Sciences and History         49.400000\n712  2010  Social Sciences and History         49.300000\n713  2011  Social Sciences and History         49.200000\n\n[714 rows x 3 columns]\n"
        }
      ],
      "execution_count": 11
    },
    {
      "id": "ba879288-418a-4302-8409-bfe54b8b3caa",
      "cell_type": "code",
      "source": "# then we filter out NON-STEM subjects/field\n\ndf_us = df_us_long[\n    df_us_long['Field']\n    .str.contains('Engineering|Architecture|Computer Science|Mathematics|statistics|Biology', regex=True, case=False)\n]",
      "metadata": {
        "trusted": true
      },
      "outputs": [],
      "execution_count": 12
    },
    {
      "id": "e07944cf-298d-4c88-a5c5-b84dd57fe75e",
      "cell_type": "code",
      "source": "print(df_us)",
      "metadata": {
        "trusted": true
      },
      "outputs": [
        {
          "name": "stdout",
          "output_type": "stream",
          "text": "     Year                Field  FemalePercent_US\n42   1970         Architecture         11.921005\n43   1971         Architecture         12.003106\n44   1972         Architecture         13.214594\n45   1973         Architecture         14.791613\n46   1974         Architecture         17.444688\n..    ...                  ...               ...\n541  2007  Math and Statistics         44.100000\n542  2008  Math and Statistics         43.300000\n543  2009  Math and Statistics         43.300000\n544  2010  Math and Statistics         43.100000\n545  2011  Math and Statistics         43.100000\n\n[210 rows x 3 columns]\n"
        }
      ],
      "execution_count": 13
    },
    {
      "id": "5b128805-fce8-4838-8d15-16050ecd4f76",
      "cell_type": "code",
      "source": "# so i noticed in the other datasets that architecture isn't there but it is a form of engineering  also Math\n# and statistics can be under mathematics..... also social science is picked up \n\n#  Rename specific courses for consistency\ndf_us_long['Field'] = (\n    df_us_long['Field']\n    .str.replace('Architecture', 'Engineering', regex=False)                 \n    .str.replace('Math and Statistics', 'Mathematics', regex=False)\n)",
      "metadata": {
        "trusted": true
      },
      "outputs": [],
      "execution_count": 14
    },
    {
      "id": "2e14e70c-6492-4a29-8cbc-302c665a57c9",
      "cell_type": "code",
      "source": "print(df_us_long)\n",
      "metadata": {
        "trusted": true
      },
      "outputs": [
        {
          "name": "stdout",
          "output_type": "stream",
          "text": "     Year                        Field  FemalePercent_US\n0    1970                  Agriculture          4.229798\n1    1971                  Agriculture          5.452797\n2    1972                  Agriculture          7.420710\n3    1973                  Agriculture          9.653602\n4    1974                  Agriculture         14.074623\n..    ...                          ...               ...\n709  2007  Social Sciences and History         49.300000\n710  2008  Social Sciences and History         49.400000\n711  2009  Social Sciences and History         49.400000\n712  2010  Social Sciences and History         49.300000\n713  2011  Social Sciences and History         49.200000\n\n[714 rows x 3 columns]\n"
        }
      ],
      "execution_count": 15
    },
    {
      "id": "cad9d2f8-ca3a-4040-8730-2f3d787c4936",
      "cell_type": "code",
      "source": "df_us_long.head(50)",
      "metadata": {
        "trusted": true
      },
      "outputs": [
        {
          "execution_count": 16,
          "output_type": "execute_result",
          "data": {
            "text/plain": "    Year        Field  FemalePercent_US\n0   1970  Agriculture          4.229798\n1   1971  Agriculture          5.452797\n2   1972  Agriculture          7.420710\n3   1973  Agriculture          9.653602\n4   1974  Agriculture         14.074623\n5   1975  Agriculture         18.333162\n6   1976  Agriculture         22.252760\n7   1977  Agriculture         24.640177\n8   1978  Agriculture         27.146192\n9   1979  Agriculture         29.633365\n10  1980  Agriculture         30.759390\n11  1981  Agriculture         31.318655\n12  1982  Agriculture         32.636664\n13  1983  Agriculture         31.635347\n14  1984  Agriculture         31.092947\n15  1985  Agriculture         31.379659\n16  1986  Agriculture         31.198719\n17  1987  Agriculture         31.486429\n18  1988  Agriculture         31.085087\n19  1989  Agriculture         31.612403\n20  1990  Agriculture         32.703444\n21  1991  Agriculture         34.711837\n22  1992  Agriculture         33.931660\n23  1993  Agriculture         34.946832\n24  1994  Agriculture         36.032674\n25  1995  Agriculture         36.844807\n26  1996  Agriculture         38.969775\n27  1997  Agriculture         40.685685\n28  1998  Agriculture         41.912403\n29  1999  Agriculture         42.887202\n30  2000  Agriculture         45.057766\n31  2001  Agriculture         45.866015\n32  2002  Agriculture         47.134658\n33  2003  Agriculture         47.935187\n34  2004  Agriculture         47.887140\n35  2005  Agriculture         47.672754\n36  2006  Agriculture         46.790300\n37  2007  Agriculture         47.605026\n38  2008  Agriculture         47.570834\n39  2009  Agriculture         48.667224\n40  2010  Agriculture         48.730042\n41  2011  Agriculture         50.037182\n42  1970  Engineering         11.921005\n43  1971  Engineering         12.003106\n44  1972  Engineering         13.214594\n45  1973  Engineering         14.791613\n46  1974  Engineering         17.444688\n47  1975  Engineering         19.134048\n48  1976  Engineering         21.394491\n49  1977  Engineering         23.740541",
            "text/html": "<div>\n<style scoped>\n    .dataframe tbody tr th:only-of-type {\n        vertical-align: middle;\n    }\n\n    .dataframe tbody tr th {\n        vertical-align: top;\n    }\n\n    .dataframe thead th {\n        text-align: right;\n    }\n</style>\n<table border=\"1\" class=\"dataframe\">\n  <thead>\n    <tr style=\"text-align: right;\">\n      <th></th>\n      <th>Year</th>\n      <th>Field</th>\n      <th>FemalePercent_US</th>\n    </tr>\n  </thead>\n  <tbody>\n    <tr>\n      <th>0</th>\n      <td>1970</td>\n      <td>Agriculture</td>\n      <td>4.229798</td>\n    </tr>\n    <tr>\n      <th>1</th>\n      <td>1971</td>\n      <td>Agriculture</td>\n      <td>5.452797</td>\n    </tr>\n    <tr>\n      <th>2</th>\n      <td>1972</td>\n      <td>Agriculture</td>\n      <td>7.420710</td>\n    </tr>\n    <tr>\n      <th>3</th>\n      <td>1973</td>\n      <td>Agriculture</td>\n      <td>9.653602</td>\n    </tr>\n    <tr>\n      <th>4</th>\n      <td>1974</td>\n      <td>Agriculture</td>\n      <td>14.074623</td>\n    </tr>\n    <tr>\n      <th>5</th>\n      <td>1975</td>\n      <td>Agriculture</td>\n      <td>18.333162</td>\n    </tr>\n    <tr>\n      <th>6</th>\n      <td>1976</td>\n      <td>Agriculture</td>\n      <td>22.252760</td>\n    </tr>\n    <tr>\n      <th>7</th>\n      <td>1977</td>\n      <td>Agriculture</td>\n      <td>24.640177</td>\n    </tr>\n    <tr>\n      <th>8</th>\n      <td>1978</td>\n      <td>Agriculture</td>\n      <td>27.146192</td>\n    </tr>\n    <tr>\n      <th>9</th>\n      <td>1979</td>\n      <td>Agriculture</td>\n      <td>29.633365</td>\n    </tr>\n    <tr>\n      <th>10</th>\n      <td>1980</td>\n      <td>Agriculture</td>\n      <td>30.759390</td>\n    </tr>\n    <tr>\n      <th>11</th>\n      <td>1981</td>\n      <td>Agriculture</td>\n      <td>31.318655</td>\n    </tr>\n    <tr>\n      <th>12</th>\n      <td>1982</td>\n      <td>Agriculture</td>\n      <td>32.636664</td>\n    </tr>\n    <tr>\n      <th>13</th>\n      <td>1983</td>\n      <td>Agriculture</td>\n      <td>31.635347</td>\n    </tr>\n    <tr>\n      <th>14</th>\n      <td>1984</td>\n      <td>Agriculture</td>\n      <td>31.092947</td>\n    </tr>\n    <tr>\n      <th>15</th>\n      <td>1985</td>\n      <td>Agriculture</td>\n      <td>31.379659</td>\n    </tr>\n    <tr>\n      <th>16</th>\n      <td>1986</td>\n      <td>Agriculture</td>\n      <td>31.198719</td>\n    </tr>\n    <tr>\n      <th>17</th>\n      <td>1987</td>\n      <td>Agriculture</td>\n      <td>31.486429</td>\n    </tr>\n    <tr>\n      <th>18</th>\n      <td>1988</td>\n      <td>Agriculture</td>\n      <td>31.085087</td>\n    </tr>\n    <tr>\n      <th>19</th>\n      <td>1989</td>\n      <td>Agriculture</td>\n      <td>31.612403</td>\n    </tr>\n    <tr>\n      <th>20</th>\n      <td>1990</td>\n      <td>Agriculture</td>\n      <td>32.703444</td>\n    </tr>\n    <tr>\n      <th>21</th>\n      <td>1991</td>\n      <td>Agriculture</td>\n      <td>34.711837</td>\n    </tr>\n    <tr>\n      <th>22</th>\n      <td>1992</td>\n      <td>Agriculture</td>\n      <td>33.931660</td>\n    </tr>\n    <tr>\n      <th>23</th>\n      <td>1993</td>\n      <td>Agriculture</td>\n      <td>34.946832</td>\n    </tr>\n    <tr>\n      <th>24</th>\n      <td>1994</td>\n      <td>Agriculture</td>\n      <td>36.032674</td>\n    </tr>\n    <tr>\n      <th>25</th>\n      <td>1995</td>\n      <td>Agriculture</td>\n      <td>36.844807</td>\n    </tr>\n    <tr>\n      <th>26</th>\n      <td>1996</td>\n      <td>Agriculture</td>\n      <td>38.969775</td>\n    </tr>\n    <tr>\n      <th>27</th>\n      <td>1997</td>\n      <td>Agriculture</td>\n      <td>40.685685</td>\n    </tr>\n    <tr>\n      <th>28</th>\n      <td>1998</td>\n      <td>Agriculture</td>\n      <td>41.912403</td>\n    </tr>\n    <tr>\n      <th>29</th>\n      <td>1999</td>\n      <td>Agriculture</td>\n      <td>42.887202</td>\n    </tr>\n    <tr>\n      <th>30</th>\n      <td>2000</td>\n      <td>Agriculture</td>\n      <td>45.057766</td>\n    </tr>\n    <tr>\n      <th>31</th>\n      <td>2001</td>\n      <td>Agriculture</td>\n      <td>45.866015</td>\n    </tr>\n    <tr>\n      <th>32</th>\n      <td>2002</td>\n      <td>Agriculture</td>\n      <td>47.134658</td>\n    </tr>\n    <tr>\n      <th>33</th>\n      <td>2003</td>\n      <td>Agriculture</td>\n      <td>47.935187</td>\n    </tr>\n    <tr>\n      <th>34</th>\n      <td>2004</td>\n      <td>Agriculture</td>\n      <td>47.887140</td>\n    </tr>\n    <tr>\n      <th>35</th>\n      <td>2005</td>\n      <td>Agriculture</td>\n      <td>47.672754</td>\n    </tr>\n    <tr>\n      <th>36</th>\n      <td>2006</td>\n      <td>Agriculture</td>\n      <td>46.790300</td>\n    </tr>\n    <tr>\n      <th>37</th>\n      <td>2007</td>\n      <td>Agriculture</td>\n      <td>47.605026</td>\n    </tr>\n    <tr>\n      <th>38</th>\n      <td>2008</td>\n      <td>Agriculture</td>\n      <td>47.570834</td>\n    </tr>\n    <tr>\n      <th>39</th>\n      <td>2009</td>\n      <td>Agriculture</td>\n      <td>48.667224</td>\n    </tr>\n    <tr>\n      <th>40</th>\n      <td>2010</td>\n      <td>Agriculture</td>\n      <td>48.730042</td>\n    </tr>\n    <tr>\n      <th>41</th>\n      <td>2011</td>\n      <td>Agriculture</td>\n      <td>50.037182</td>\n    </tr>\n    <tr>\n      <th>42</th>\n      <td>1970</td>\n      <td>Engineering</td>\n      <td>11.921005</td>\n    </tr>\n    <tr>\n      <th>43</th>\n      <td>1971</td>\n      <td>Engineering</td>\n      <td>12.003106</td>\n    </tr>\n    <tr>\n      <th>44</th>\n      <td>1972</td>\n      <td>Engineering</td>\n      <td>13.214594</td>\n    </tr>\n    <tr>\n      <th>45</th>\n      <td>1973</td>\n      <td>Engineering</td>\n      <td>14.791613</td>\n    </tr>\n    <tr>\n      <th>46</th>\n      <td>1974</td>\n      <td>Engineering</td>\n      <td>17.444688</td>\n    </tr>\n    <tr>\n      <th>47</th>\n      <td>1975</td>\n      <td>Engineering</td>\n      <td>19.134048</td>\n    </tr>\n    <tr>\n      <th>48</th>\n      <td>1976</td>\n      <td>Engineering</td>\n      <td>21.394491</td>\n    </tr>\n    <tr>\n      <th>49</th>\n      <td>1977</td>\n      <td>Engineering</td>\n      <td>23.740541</td>\n    </tr>\n  </tbody>\n</table>\n</div>"
          },
          "metadata": {}
        }
      ],
      "execution_count": 16
    },
    {
      "id": "5055799c-2ab0-4868-8f72-8c52f5cc7e82",
      "cell_type": "code",
      "source": "# 2. Filter to only STEM, excluding Social Sciences\nstem_pattern = r'Engineering|Science|Computer Science|Mathematics|Biology'\ndf_us = df_us_long[\n    df_us_long['Field']\n        .str.contains(stem_pattern, regex=True, case=False) \n    & ~df_us_long['Field']\n        .str.contains('Social Sciences', regex=True, case=False)   \n]",
      "metadata": {
        "trusted": true
      },
      "outputs": [],
      "execution_count": 17
    },
    {
      "id": "1dfe8c65-9b41-4f3e-8168-3a660863abf2",
      "cell_type": "code",
      "source": "df_us.head(20)",
      "metadata": {
        "trusted": true
      },
      "outputs": [
        {
          "execution_count": 18,
          "output_type": "execute_result",
          "data": {
            "text/plain": "    Year        Field  FemalePercent_US\n42  1970  Engineering         11.921005\n43  1971  Engineering         12.003106\n44  1972  Engineering         13.214594\n45  1973  Engineering         14.791613\n46  1974  Engineering         17.444688\n47  1975  Engineering         19.134048\n48  1976  Engineering         21.394491\n49  1977  Engineering         23.740541\n50  1978  Engineering         25.849240\n51  1979  Engineering         27.770477\n52  1980  Engineering         28.080381\n53  1981  Engineering         29.841694\n54  1982  Engineering         34.816248\n55  1983  Engineering         35.826257\n56  1984  Engineering         35.453083\n57  1985  Engineering         36.133348\n58  1986  Engineering         37.240223\n59  1987  Engineering         38.730675\n60  1988  Engineering         39.398907\n61  1989  Engineering         39.096540",
            "text/html": "<div>\n<style scoped>\n    .dataframe tbody tr th:only-of-type {\n        vertical-align: middle;\n    }\n\n    .dataframe tbody tr th {\n        vertical-align: top;\n    }\n\n    .dataframe thead th {\n        text-align: right;\n    }\n</style>\n<table border=\"1\" class=\"dataframe\">\n  <thead>\n    <tr style=\"text-align: right;\">\n      <th></th>\n      <th>Year</th>\n      <th>Field</th>\n      <th>FemalePercent_US</th>\n    </tr>\n  </thead>\n  <tbody>\n    <tr>\n      <th>42</th>\n      <td>1970</td>\n      <td>Engineering</td>\n      <td>11.921005</td>\n    </tr>\n    <tr>\n      <th>43</th>\n      <td>1971</td>\n      <td>Engineering</td>\n      <td>12.003106</td>\n    </tr>\n    <tr>\n      <th>44</th>\n      <td>1972</td>\n      <td>Engineering</td>\n      <td>13.214594</td>\n    </tr>\n    <tr>\n      <th>45</th>\n      <td>1973</td>\n      <td>Engineering</td>\n      <td>14.791613</td>\n    </tr>\n    <tr>\n      <th>46</th>\n      <td>1974</td>\n      <td>Engineering</td>\n      <td>17.444688</td>\n    </tr>\n    <tr>\n      <th>47</th>\n      <td>1975</td>\n      <td>Engineering</td>\n      <td>19.134048</td>\n    </tr>\n    <tr>\n      <th>48</th>\n      <td>1976</td>\n      <td>Engineering</td>\n      <td>21.394491</td>\n    </tr>\n    <tr>\n      <th>49</th>\n      <td>1977</td>\n      <td>Engineering</td>\n      <td>23.740541</td>\n    </tr>\n    <tr>\n      <th>50</th>\n      <td>1978</td>\n      <td>Engineering</td>\n      <td>25.849240</td>\n    </tr>\n    <tr>\n      <th>51</th>\n      <td>1979</td>\n      <td>Engineering</td>\n      <td>27.770477</td>\n    </tr>\n    <tr>\n      <th>52</th>\n      <td>1980</td>\n      <td>Engineering</td>\n      <td>28.080381</td>\n    </tr>\n    <tr>\n      <th>53</th>\n      <td>1981</td>\n      <td>Engineering</td>\n      <td>29.841694</td>\n    </tr>\n    <tr>\n      <th>54</th>\n      <td>1982</td>\n      <td>Engineering</td>\n      <td>34.816248</td>\n    </tr>\n    <tr>\n      <th>55</th>\n      <td>1983</td>\n      <td>Engineering</td>\n      <td>35.826257</td>\n    </tr>\n    <tr>\n      <th>56</th>\n      <td>1984</td>\n      <td>Engineering</td>\n      <td>35.453083</td>\n    </tr>\n    <tr>\n      <th>57</th>\n      <td>1985</td>\n      <td>Engineering</td>\n      <td>36.133348</td>\n    </tr>\n    <tr>\n      <th>58</th>\n      <td>1986</td>\n      <td>Engineering</td>\n      <td>37.240223</td>\n    </tr>\n    <tr>\n      <th>59</th>\n      <td>1987</td>\n      <td>Engineering</td>\n      <td>38.730675</td>\n    </tr>\n    <tr>\n      <th>60</th>\n      <td>1988</td>\n      <td>Engineering</td>\n      <td>39.398907</td>\n    </tr>\n    <tr>\n      <th>61</th>\n      <td>1989</td>\n      <td>Engineering</td>\n      <td>39.096540</td>\n    </tr>\n  </tbody>\n</table>\n</div>"
          },
          "metadata": {}
        }
      ],
      "execution_count": 18
    },
    {
      "id": "4a8fe651-11b5-47d6-b84c-55d99905943f",
      "cell_type": "code",
      "source": "#so the third dataset doesnt have so much fields in common \n# so we picked a different table that can enable us extract a time series (workbank_tertairy female)\n# we noticed that this table has some missing informations as well",
      "metadata": {
        "trusted": true
      },
      "outputs": [],
      "execution_count": 19
    },
    {
      "id": "016050f3-d0b2-49d9-987c-2793d7eb30a7",
      "cell_type": "code",
      "source": "df_wb = pd.read_csv('worldbank_tertiary_female.csv')",
      "metadata": {
        "trusted": true
      },
      "outputs": [],
      "execution_count": 20
    },
    {
      "id": "eca47366-1e9c-421f-9087-12e6cbe058df",
      "cell_type": "code",
      "source": "df_wb.head",
      "metadata": {
        "trusted": true
      },
      "outputs": [
        {
          "execution_count": 21,
          "output_type": "execute_result",
          "data": {
            "text/plain": "<bound method NDFrame.head of                     Country Name Country Code  \\\n0                          Aruba          ABW   \n1    Africa Eastern and Southern          AFE   \n2                    Afghanistan          AFG   \n3     Africa Western and Central          AFW   \n4                         Angola          AGO   \n..                           ...          ...   \n261                       Kosovo          XKX   \n262                  Yemen, Rep.          YEM   \n263                 South Africa          ZAF   \n264                       Zambia          ZMB   \n265                     Zimbabwe          ZWE   \n\n                                    Indicator Name  Indicator Code     1970  \\\n0    School enrollment, tertiary, female (% gross)  SE.TER.ENRR.FE      NaN   \n1    School enrollment, tertiary, female (% gross)  SE.TER.ENRR.FE  1.62990   \n2    School enrollment, tertiary, female (% gross)  SE.TER.ENRR.FE  0.23683   \n3    School enrollment, tertiary, female (% gross)  SE.TER.ENRR.FE  0.25340   \n4    School enrollment, tertiary, female (% gross)  SE.TER.ENRR.FE      NaN   \n..                                             ...             ...      ...   \n261  School enrollment, tertiary, female (% gross)  SE.TER.ENRR.FE      NaN   \n262  School enrollment, tertiary, female (% gross)  SE.TER.ENRR.FE      NaN   \n263  School enrollment, tertiary, female (% gross)  SE.TER.ENRR.FE      NaN   \n264  School enrollment, tertiary, female (% gross)  SE.TER.ENRR.FE  0.11794   \n265  School enrollment, tertiary, female (% gross)  SE.TER.ENRR.FE      NaN   \n\n        1971     1972     1973     1974     1975  ...       2014       2015  \\\n0        NaN      NaN      NaN      NaN      NaN  ...  25.007429  23.393009   \n1    1.63283  1.63675  1.65217  1.69178  1.71145  ...   7.467450   7.621360   \n2        NaN  0.27209  0.36611  0.30405  0.33248  ...   3.457720        NaN   \n3    0.25283  0.26445  0.28454  0.30791  0.33216  ...   7.411460   7.576110   \n4        NaN      NaN      NaN      NaN      NaN  ...        NaN   7.687370   \n..       ...      ...      ...      ...      ...  ...        ...        ...   \n261      NaN      NaN      NaN      NaN      NaN  ...        NaN        NaN   \n262      NaN      NaN      NaN      NaN      NaN  ...        NaN        NaN   \n263      NaN      NaN      NaN      NaN      NaN  ...  21.356180  22.270660   \n264      NaN      NaN      NaN  0.53316  0.54634  ...        NaN        NaN   \n265      NaN      NaN      NaN      NaN      NaN  ...        NaN   9.457830   \n\n          2016       2017       2018       2019       2020      2021  \\\n0    23.396570        NaN        NaN        NaN        NaN       NaN   \n1     7.828020   8.075690   8.193460   8.169910   8.271270   8.23658   \n2          NaN        NaN   5.003820        NaN   5.941740       NaN   \n3     7.464360   7.541890   7.806940   8.071950   8.282610   8.59540   \n4     8.792090   8.691208   8.420124  10.476881        NaN       NaN   \n..         ...        ...        ...        ...        ...       ...   \n261        NaN        NaN        NaN        NaN        NaN       NaN   \n262        NaN        NaN        NaN        NaN        NaN       NaN   \n263  22.466761  25.345961  27.937189  28.934000  30.914190  31.54933   \n264        NaN        NaN        NaN        NaN        NaN       NaN   \n265   6.960391   7.983247   8.100265   9.806149   9.543976       NaN   \n\n          2022     2023  \n0          NaN      NaN  \n1          NaN      NaN  \n2          NaN      NaN  \n3          NaN      NaN  \n4          NaN  9.79058  \n..         ...      ...  \n261        NaN      NaN  \n262        NaN      NaN  \n263  34.225029      NaN  \n264        NaN      NaN  \n265        NaN      NaN  \n\n[266 rows x 58 columns]>"
          },
          "metadata": {}
        }
      ],
      "execution_count": 21
    },
    {
      "id": "43c714c9-39bb-4665-805e-754e4f55ccb2",
      "cell_type": "code",
      "source": "print(df_wb.columns)",
      "metadata": {
        "trusted": true
      },
      "outputs": [
        {
          "name": "stdout",
          "output_type": "stream",
          "text": "Index(['Country Name', 'Country Code', 'Indicator Name', 'Indicator Code',\n       '1970', '1971', '1972', '1973', '1974', '1975', '1976', '1977', '1978',\n       '1979', '1980', '1981', '1982', '1983', '1984', '1985', '1986', '1987',\n       '1988', '1989', '1990', '1991', '1992', '1993', '1994', '1995', '1996',\n       '1997', '1998', '1999', '2000', '2001', '2002', '2003', '2004', '2005',\n       '2006', '2007', '2008', '2009', '2010', '2011', '2012', '2013', '2014',\n       '2015', '2016', '2017', '2018', '2019', '2020', '2021', '2022', '2023'],\n      dtype='object')\n"
        }
      ],
      "execution_count": 22
    },
    {
      "id": "b273322f-6b05-4dac-a347-0d1ae8f07ea1",
      "cell_type": "code",
      "source": "#identify the year columns \nyear_cols = [c for c in df_wb.columns if c.isdigit()]\n\n# melts the df from a wide to a long df\ndf_wb_long = df_wb.melt(id_vars=['Country Name'],\n                        value_vars=year_cols,\n                        var_name='Year',\n                        value_name='FemalePercent_World')\n\n#Converts the data types\ndf_wb_long['Year'] = df_wb_long['Year'].astype(int) #to integer\ndf_wb_long['FemalePercent_World'] = pd.to_numeric(df_wb_long['FemalePercent_World'], errors='coerce') #number\n\n#sort the data\ndf_wb_long.sort_values(['Country Name','Year'], inplace=True)\n\n# Drop countries with no data at all (all FemalePercent_World values = NaN)\ndf_wb_long = df_wb_long.groupby('Country Name').filter(\n    lambda g: g['FemalePercent_World'].notna().any()\n)\n\n#to interpolate or fill in missing values \n# df_wb_long['FemalePercent_World'] = (\n#     df_wb_long.groupby('Country Name')['FemalePercent_World']\n#     .apply(lambda s: s.interpolate().bfill.ffill)\n# )\ndf_wb_long['FemalePercent_World'] = (\n    df_wb_long\n    .groupby('Country Name', group_keys=False)['FemalePercent_World']\n    .transform(lambda s: s.interpolate().bfill().ffill())\n)\n\ndf_wb_clean = df_wb_long.rename(columns={'Country Name': 'Country'})",
      "metadata": {
        "trusted": true
      },
      "outputs": [],
      "execution_count": 23
    },
    {
      "id": "dc7139ab-e7ba-45af-b3e9-2070bb2c7717",
      "cell_type": "code",
      "source": "df_wb_clean.head",
      "metadata": {
        "trusted": true
      },
      "outputs": [
        {
          "execution_count": 24,
          "output_type": "execute_result",
          "data": {
            "text/plain": "<bound method NDFrame.head of            Country  Year  FemalePercent_World\n2      Afghanistan  1970             0.236830\n268    Afghanistan  1971             0.254460\n534    Afghanistan  1972             0.272090\n800    Afghanistan  1973             0.366110\n1066   Afghanistan  1974             0.304050\n...            ...   ...                  ...\n13299     Zimbabwe  2019             9.806149\n13565     Zimbabwe  2020             9.543976\n13831     Zimbabwe  2021             9.543976\n14097     Zimbabwe  2022             9.543976\n14363     Zimbabwe  2023             9.543976\n\n[13500 rows x 3 columns]>"
          },
          "metadata": {}
        }
      ],
      "execution_count": 24
    },
    {
      "id": "b33d0a1f-f45d-4f27-8483-6b7fbb74af8f",
      "cell_type": "code",
      "source": "print(df_global.columns) \nprint(df_us.columns)     \nprint(df_wb_clean.columns)   ",
      "metadata": {
        "trusted": true
      },
      "outputs": [
        {
          "name": "stdout",
          "output_type": "stream",
          "text": "Index(['Country', 'Year', 'FemalePercent_Global', 'Female Graduation Rate (%)',\n       'Field', 'Gender Gap Index'],\n      dtype='object')\nIndex(['Year', 'Field', 'FemalePercent_US'], dtype='object')\nIndex(['Country', 'Year', 'FemalePercent_World'], dtype='object')\n"
        }
      ],
      "execution_count": 25
    },
    {
      "id": "46dbb120-9509-48f0-992b-65cae627847c",
      "cell_type": "code",
      "source": "# now we merge all 3 datasets\n\n# 4. Merge datasets\ndf_merge1 = pd.merge(df_global, df_us, on=['Year','Field'], how='inner')\ndf_final = pd.merge(df_merge1, df_wb_clean[['Country','Year','FemalePercent_World']],\n                    on=['Country','Year'], how='left')",
      "metadata": {
        "trusted": true
      },
      "outputs": [],
      "execution_count": 26
    },
    {
      "id": "85d0029f-2f14-4c5d-8862-62abfc2424df",
      "cell_type": "code",
      "source": "df_final.head(20)",
      "metadata": {
        "trusted": true
      },
      "outputs": [
        {
          "execution_count": 27,
          "output_type": "execute_result",
          "data": {
            "text/plain": "      Country  Year  FemalePercent_Global  Female Graduation Rate (%)  \\\n0   Australia  2000                  68.0                        31.3   \n1   Australia  2000                  68.0                        31.3   \n2   Australia  2000                  55.0                        43.1   \n3   Australia  2000                  68.2                        62.5   \n4   Australia  2000                  25.3                        41.7   \n5   Australia  2000                  50.8                        27.6   \n6   Australia  2000                  47.5                        11.0   \n7   Australia  2000                  30.4                        32.9   \n8      Canada  2000                  58.1                        16.2   \n9      Canada  2000                  21.0                        21.3   \n10      China  2000                  59.9                        45.6   \n11      China  2000                  48.1                        57.3   \n12      China  2000                  31.3                        23.6   \n13      China  2000                  33.8                        19.0   \n14    Germany  2000                  46.0                        19.4   \n15    Germany  2000                  58.9                        49.7   \n16      India  2000                  29.5                        38.1   \n17      India  2000                  29.5                        38.1   \n18      India  2000                  42.4                        40.4   \n19      India  2000                  27.7                        34.5   \n\n               Field  Gender Gap Index  FemalePercent_US  FemalePercent_World  \n0        Engineering              0.51         40.023585            92.496029  \n1        Engineering              0.51         18.400000            92.496029  \n2        Mathematics              0.98         48.200000            92.496029  \n3            Biology              0.99         59.389857            92.496029  \n4   Computer Science              0.97         27.700000            92.496029  \n5        Mathematics              0.76         48.200000            92.496029  \n6   Computer Science              0.73         27.700000            92.496029  \n7   Computer Science              0.83         27.700000            92.496029  \n8            Biology              0.97         59.389857            67.270714  \n9   Computer Science              0.88         27.700000            67.270714  \n10       Mathematics              0.85         48.200000             9.554810  \n11  Computer Science              0.79         27.700000             9.554810  \n12  Computer Science              0.74         27.700000             9.554810  \n13           Biology              0.73         59.389857             9.554810  \n14           Biology              0.80         59.389857            48.145587  \n15       Mathematics              0.81         48.200000            48.145587  \n16       Engineering              0.90         40.023585             7.602530  \n17       Engineering              0.90         18.400000             7.602530  \n18       Mathematics              0.66         48.200000             7.602530  \n19           Biology              0.52         59.389857             7.602530  ",
            "text/html": "<div>\n<style scoped>\n    .dataframe tbody tr th:only-of-type {\n        vertical-align: middle;\n    }\n\n    .dataframe tbody tr th {\n        vertical-align: top;\n    }\n\n    .dataframe thead th {\n        text-align: right;\n    }\n</style>\n<table border=\"1\" class=\"dataframe\">\n  <thead>\n    <tr style=\"text-align: right;\">\n      <th></th>\n      <th>Country</th>\n      <th>Year</th>\n      <th>FemalePercent_Global</th>\n      <th>Female Graduation Rate (%)</th>\n      <th>Field</th>\n      <th>Gender Gap Index</th>\n      <th>FemalePercent_US</th>\n      <th>FemalePercent_World</th>\n    </tr>\n  </thead>\n  <tbody>\n    <tr>\n      <th>0</th>\n      <td>Australia</td>\n      <td>2000</td>\n      <td>68.0</td>\n      <td>31.3</td>\n      <td>Engineering</td>\n      <td>0.51</td>\n      <td>40.023585</td>\n      <td>92.496029</td>\n    </tr>\n    <tr>\n      <th>1</th>\n      <td>Australia</td>\n      <td>2000</td>\n      <td>68.0</td>\n      <td>31.3</td>\n      <td>Engineering</td>\n      <td>0.51</td>\n      <td>18.400000</td>\n      <td>92.496029</td>\n    </tr>\n    <tr>\n      <th>2</th>\n      <td>Australia</td>\n      <td>2000</td>\n      <td>55.0</td>\n      <td>43.1</td>\n      <td>Mathematics</td>\n      <td>0.98</td>\n      <td>48.200000</td>\n      <td>92.496029</td>\n    </tr>\n    <tr>\n      <th>3</th>\n      <td>Australia</td>\n      <td>2000</td>\n      <td>68.2</td>\n      <td>62.5</td>\n      <td>Biology</td>\n      <td>0.99</td>\n      <td>59.389857</td>\n      <td>92.496029</td>\n    </tr>\n    <tr>\n      <th>4</th>\n      <td>Australia</td>\n      <td>2000</td>\n      <td>25.3</td>\n      <td>41.7</td>\n      <td>Computer Science</td>\n      <td>0.97</td>\n      <td>27.700000</td>\n      <td>92.496029</td>\n    </tr>\n    <tr>\n      <th>5</th>\n      <td>Australia</td>\n      <td>2000</td>\n      <td>50.8</td>\n      <td>27.6</td>\n      <td>Mathematics</td>\n      <td>0.76</td>\n      <td>48.200000</td>\n      <td>92.496029</td>\n    </tr>\n    <tr>\n      <th>6</th>\n      <td>Australia</td>\n      <td>2000</td>\n      <td>47.5</td>\n      <td>11.0</td>\n      <td>Computer Science</td>\n      <td>0.73</td>\n      <td>27.700000</td>\n      <td>92.496029</td>\n    </tr>\n    <tr>\n      <th>7</th>\n      <td>Australia</td>\n      <td>2000</td>\n      <td>30.4</td>\n      <td>32.9</td>\n      <td>Computer Science</td>\n      <td>0.83</td>\n      <td>27.700000</td>\n      <td>92.496029</td>\n    </tr>\n    <tr>\n      <th>8</th>\n      <td>Canada</td>\n      <td>2000</td>\n      <td>58.1</td>\n      <td>16.2</td>\n      <td>Biology</td>\n      <td>0.97</td>\n      <td>59.389857</td>\n      <td>67.270714</td>\n    </tr>\n    <tr>\n      <th>9</th>\n      <td>Canada</td>\n      <td>2000</td>\n      <td>21.0</td>\n      <td>21.3</td>\n      <td>Computer Science</td>\n      <td>0.88</td>\n      <td>27.700000</td>\n      <td>67.270714</td>\n    </tr>\n    <tr>\n      <th>10</th>\n      <td>China</td>\n      <td>2000</td>\n      <td>59.9</td>\n      <td>45.6</td>\n      <td>Mathematics</td>\n      <td>0.85</td>\n      <td>48.200000</td>\n      <td>9.554810</td>\n    </tr>\n    <tr>\n      <th>11</th>\n      <td>China</td>\n      <td>2000</td>\n      <td>48.1</td>\n      <td>57.3</td>\n      <td>Computer Science</td>\n      <td>0.79</td>\n      <td>27.700000</td>\n      <td>9.554810</td>\n    </tr>\n    <tr>\n      <th>12</th>\n      <td>China</td>\n      <td>2000</td>\n      <td>31.3</td>\n      <td>23.6</td>\n      <td>Computer Science</td>\n      <td>0.74</td>\n      <td>27.700000</td>\n      <td>9.554810</td>\n    </tr>\n    <tr>\n      <th>13</th>\n      <td>China</td>\n      <td>2000</td>\n      <td>33.8</td>\n      <td>19.0</td>\n      <td>Biology</td>\n      <td>0.73</td>\n      <td>59.389857</td>\n      <td>9.554810</td>\n    </tr>\n    <tr>\n      <th>14</th>\n      <td>Germany</td>\n      <td>2000</td>\n      <td>46.0</td>\n      <td>19.4</td>\n      <td>Biology</td>\n      <td>0.80</td>\n      <td>59.389857</td>\n      <td>48.145587</td>\n    </tr>\n    <tr>\n      <th>15</th>\n      <td>Germany</td>\n      <td>2000</td>\n      <td>58.9</td>\n      <td>49.7</td>\n      <td>Mathematics</td>\n      <td>0.81</td>\n      <td>48.200000</td>\n      <td>48.145587</td>\n    </tr>\n    <tr>\n      <th>16</th>\n      <td>India</td>\n      <td>2000</td>\n      <td>29.5</td>\n      <td>38.1</td>\n      <td>Engineering</td>\n      <td>0.90</td>\n      <td>40.023585</td>\n      <td>7.602530</td>\n    </tr>\n    <tr>\n      <th>17</th>\n      <td>India</td>\n      <td>2000</td>\n      <td>29.5</td>\n      <td>38.1</td>\n      <td>Engineering</td>\n      <td>0.90</td>\n      <td>18.400000</td>\n      <td>7.602530</td>\n    </tr>\n    <tr>\n      <th>18</th>\n      <td>India</td>\n      <td>2000</td>\n      <td>42.4</td>\n      <td>40.4</td>\n      <td>Mathematics</td>\n      <td>0.66</td>\n      <td>48.200000</td>\n      <td>7.602530</td>\n    </tr>\n    <tr>\n      <th>19</th>\n      <td>India</td>\n      <td>2000</td>\n      <td>27.7</td>\n      <td>34.5</td>\n      <td>Biology</td>\n      <td>0.52</td>\n      <td>59.389857</td>\n      <td>7.602530</td>\n    </tr>\n  </tbody>\n</table>\n</div>"
          },
          "metadata": {}
        }
      ],
      "execution_count": 27
    },
    {
      "id": "f9f9e856-ab04-4d60-9f7b-598cfc9c776f",
      "cell_type": "code",
      "source": "# Rename columns for clarity\ndf_final.rename(columns={\n    'FemalePercent_Global': 'Global_Female_Enrollment_%',\n    'FemalePercent_US':      'US_Female_Degree_%',\n    'FemalePercent_World':   'Global_Female_Tertiary_%'\n}, inplace=True) \n",
      "metadata": {
        "trusted": true
      },
      "outputs": [],
      "execution_count": 29
    },
    {
      "id": "3dc0d3df-9c7a-4d8e-8855-60bca3e2d293",
      "cell_type": "code",
      "source": "# Year as integer\ndf_final['Year'] = df_final['Year'].astype(int)  # cast to int \n\n# Percentages to float\nfor col in ['Global_Female_Enrollment_%', 'US_Female_Degree_%', 'Global_Female_Tertiary_%']:\n    df_final[col] = pd.to_numeric(df_final[col], errors='coerce')  # convert to numeric, NaN if invalid :contentReference[oaicite:2]{index=2}\n",
      "metadata": {
        "trusted": true
      },
      "outputs": [],
      "execution_count": 30
    },
    {
      "id": "5543b2ef-35be-47c1-ae3f-385c64f810b7",
      "cell_type": "code",
      "source": "print(df_final.isna().sum())  # count nulls per column :contentReference\n",
      "metadata": {
        "trusted": true
      },
      "outputs": [
        {
          "name": "stdout",
          "output_type": "stream",
          "text": "Country                        0\nYear                           0\nGlobal_Female_Enrollment_%     0\nFemale Graduation Rate (%)     0\nField                          0\nGender Gap Index               0\nUS_Female_Degree_%             0\nGlobal_Female_Tertiary_%      48\ndtype: int64\n"
        }
      ],
      "execution_count": 31
    },
    {
      "id": "f57349fa-2dfd-4d67-babc-a0faca7241e1",
      "cell_type": "code",
      "source": "df_final = df_final.dropna(subset=[\n    'Global_Female_Enrollment_%', \n    'US_Female_Degree_%',\n    'Global_Female_Tertiary_%'\n])  # drop rows missing key STEM metrics \n",
      "metadata": {
        "trusted": true
      },
      "outputs": [],
      "execution_count": 32
    },
    {
      "id": "3499f3fc-96bf-4604-b3c4-f48cb1eef01d",
      "cell_type": "code",
      "source": "for col in ['Global_Female_Enrollment_%', 'US_Female_Degree_%', 'Global_Female_Tertiary_%']:\n    df_final.loc[:, col] = df_final[col].clip(lower=0, upper=100)\n",
      "metadata": {
        "trusted": true
      },
      "outputs": [],
      "execution_count": 33
    },
    {
      "id": "cee0c2a2-8810-4db8-9b9e-cf2fd406f50f",
      "cell_type": "code",
      "source": "df_final.head(20)\n",
      "metadata": {
        "trusted": true
      },
      "outputs": [
        {
          "execution_count": 34,
          "output_type": "execute_result",
          "data": {
            "text/plain": "      Country  Year  Global_Female_Enrollment_%  Female Graduation Rate (%)  \\\n0   Australia  2000                        68.0                        31.3   \n1   Australia  2000                        68.0                        31.3   \n2   Australia  2000                        55.0                        43.1   \n3   Australia  2000                        68.2                        62.5   \n4   Australia  2000                        25.3                        41.7   \n5   Australia  2000                        50.8                        27.6   \n6   Australia  2000                        47.5                        11.0   \n7   Australia  2000                        30.4                        32.9   \n8      Canada  2000                        58.1                        16.2   \n9      Canada  2000                        21.0                        21.3   \n10      China  2000                        59.9                        45.6   \n11      China  2000                        48.1                        57.3   \n12      China  2000                        31.3                        23.6   \n13      China  2000                        33.8                        19.0   \n14    Germany  2000                        46.0                        19.4   \n15    Germany  2000                        58.9                        49.7   \n16      India  2000                        29.5                        38.1   \n17      India  2000                        29.5                        38.1   \n18      India  2000                        42.4                        40.4   \n19      India  2000                        27.7                        34.5   \n\n               Field  Gender Gap Index  US_Female_Degree_%  \\\n0        Engineering              0.51           40.023585   \n1        Engineering              0.51           18.400000   \n2        Mathematics              0.98           48.200000   \n3            Biology              0.99           59.389857   \n4   Computer Science              0.97           27.700000   \n5        Mathematics              0.76           48.200000   \n6   Computer Science              0.73           27.700000   \n7   Computer Science              0.83           27.700000   \n8            Biology              0.97           59.389857   \n9   Computer Science              0.88           27.700000   \n10       Mathematics              0.85           48.200000   \n11  Computer Science              0.79           27.700000   \n12  Computer Science              0.74           27.700000   \n13           Biology              0.73           59.389857   \n14           Biology              0.80           59.389857   \n15       Mathematics              0.81           48.200000   \n16       Engineering              0.90           40.023585   \n17       Engineering              0.90           18.400000   \n18       Mathematics              0.66           48.200000   \n19           Biology              0.52           59.389857   \n\n    Global_Female_Tertiary_%  \n0                  92.496029  \n1                  92.496029  \n2                  92.496029  \n3                  92.496029  \n4                  92.496029  \n5                  92.496029  \n6                  92.496029  \n7                  92.496029  \n8                  67.270714  \n9                  67.270714  \n10                  9.554810  \n11                  9.554810  \n12                  9.554810  \n13                  9.554810  \n14                 48.145587  \n15                 48.145587  \n16                  7.602530  \n17                  7.602530  \n18                  7.602530  \n19                  7.602530  ",
            "text/html": "<div>\n<style scoped>\n    .dataframe tbody tr th:only-of-type {\n        vertical-align: middle;\n    }\n\n    .dataframe tbody tr th {\n        vertical-align: top;\n    }\n\n    .dataframe thead th {\n        text-align: right;\n    }\n</style>\n<table border=\"1\" class=\"dataframe\">\n  <thead>\n    <tr style=\"text-align: right;\">\n      <th></th>\n      <th>Country</th>\n      <th>Year</th>\n      <th>Global_Female_Enrollment_%</th>\n      <th>Female Graduation Rate (%)</th>\n      <th>Field</th>\n      <th>Gender Gap Index</th>\n      <th>US_Female_Degree_%</th>\n      <th>Global_Female_Tertiary_%</th>\n    </tr>\n  </thead>\n  <tbody>\n    <tr>\n      <th>0</th>\n      <td>Australia</td>\n      <td>2000</td>\n      <td>68.0</td>\n      <td>31.3</td>\n      <td>Engineering</td>\n      <td>0.51</td>\n      <td>40.023585</td>\n      <td>92.496029</td>\n    </tr>\n    <tr>\n      <th>1</th>\n      <td>Australia</td>\n      <td>2000</td>\n      <td>68.0</td>\n      <td>31.3</td>\n      <td>Engineering</td>\n      <td>0.51</td>\n      <td>18.400000</td>\n      <td>92.496029</td>\n    </tr>\n    <tr>\n      <th>2</th>\n      <td>Australia</td>\n      <td>2000</td>\n      <td>55.0</td>\n      <td>43.1</td>\n      <td>Mathematics</td>\n      <td>0.98</td>\n      <td>48.200000</td>\n      <td>92.496029</td>\n    </tr>\n    <tr>\n      <th>3</th>\n      <td>Australia</td>\n      <td>2000</td>\n      <td>68.2</td>\n      <td>62.5</td>\n      <td>Biology</td>\n      <td>0.99</td>\n      <td>59.389857</td>\n      <td>92.496029</td>\n    </tr>\n    <tr>\n      <th>4</th>\n      <td>Australia</td>\n      <td>2000</td>\n      <td>25.3</td>\n      <td>41.7</td>\n      <td>Computer Science</td>\n      <td>0.97</td>\n      <td>27.700000</td>\n      <td>92.496029</td>\n    </tr>\n    <tr>\n      <th>5</th>\n      <td>Australia</td>\n      <td>2000</td>\n      <td>50.8</td>\n      <td>27.6</td>\n      <td>Mathematics</td>\n      <td>0.76</td>\n      <td>48.200000</td>\n      <td>92.496029</td>\n    </tr>\n    <tr>\n      <th>6</th>\n      <td>Australia</td>\n      <td>2000</td>\n      <td>47.5</td>\n      <td>11.0</td>\n      <td>Computer Science</td>\n      <td>0.73</td>\n      <td>27.700000</td>\n      <td>92.496029</td>\n    </tr>\n    <tr>\n      <th>7</th>\n      <td>Australia</td>\n      <td>2000</td>\n      <td>30.4</td>\n      <td>32.9</td>\n      <td>Computer Science</td>\n      <td>0.83</td>\n      <td>27.700000</td>\n      <td>92.496029</td>\n    </tr>\n    <tr>\n      <th>8</th>\n      <td>Canada</td>\n      <td>2000</td>\n      <td>58.1</td>\n      <td>16.2</td>\n      <td>Biology</td>\n      <td>0.97</td>\n      <td>59.389857</td>\n      <td>67.270714</td>\n    </tr>\n    <tr>\n      <th>9</th>\n      <td>Canada</td>\n      <td>2000</td>\n      <td>21.0</td>\n      <td>21.3</td>\n      <td>Computer Science</td>\n      <td>0.88</td>\n      <td>27.700000</td>\n      <td>67.270714</td>\n    </tr>\n    <tr>\n      <th>10</th>\n      <td>China</td>\n      <td>2000</td>\n      <td>59.9</td>\n      <td>45.6</td>\n      <td>Mathematics</td>\n      <td>0.85</td>\n      <td>48.200000</td>\n      <td>9.554810</td>\n    </tr>\n    <tr>\n      <th>11</th>\n      <td>China</td>\n      <td>2000</td>\n      <td>48.1</td>\n      <td>57.3</td>\n      <td>Computer Science</td>\n      <td>0.79</td>\n      <td>27.700000</td>\n      <td>9.554810</td>\n    </tr>\n    <tr>\n      <th>12</th>\n      <td>China</td>\n      <td>2000</td>\n      <td>31.3</td>\n      <td>23.6</td>\n      <td>Computer Science</td>\n      <td>0.74</td>\n      <td>27.700000</td>\n      <td>9.554810</td>\n    </tr>\n    <tr>\n      <th>13</th>\n      <td>China</td>\n      <td>2000</td>\n      <td>33.8</td>\n      <td>19.0</td>\n      <td>Biology</td>\n      <td>0.73</td>\n      <td>59.389857</td>\n      <td>9.554810</td>\n    </tr>\n    <tr>\n      <th>14</th>\n      <td>Germany</td>\n      <td>2000</td>\n      <td>46.0</td>\n      <td>19.4</td>\n      <td>Biology</td>\n      <td>0.80</td>\n      <td>59.389857</td>\n      <td>48.145587</td>\n    </tr>\n    <tr>\n      <th>15</th>\n      <td>Germany</td>\n      <td>2000</td>\n      <td>58.9</td>\n      <td>49.7</td>\n      <td>Mathematics</td>\n      <td>0.81</td>\n      <td>48.200000</td>\n      <td>48.145587</td>\n    </tr>\n    <tr>\n      <th>16</th>\n      <td>India</td>\n      <td>2000</td>\n      <td>29.5</td>\n      <td>38.1</td>\n      <td>Engineering</td>\n      <td>0.90</td>\n      <td>40.023585</td>\n      <td>7.602530</td>\n    </tr>\n    <tr>\n      <th>17</th>\n      <td>India</td>\n      <td>2000</td>\n      <td>29.5</td>\n      <td>38.1</td>\n      <td>Engineering</td>\n      <td>0.90</td>\n      <td>18.400000</td>\n      <td>7.602530</td>\n    </tr>\n    <tr>\n      <th>18</th>\n      <td>India</td>\n      <td>2000</td>\n      <td>42.4</td>\n      <td>40.4</td>\n      <td>Mathematics</td>\n      <td>0.66</td>\n      <td>48.200000</td>\n      <td>7.602530</td>\n    </tr>\n    <tr>\n      <th>19</th>\n      <td>India</td>\n      <td>2000</td>\n      <td>27.7</td>\n      <td>34.5</td>\n      <td>Biology</td>\n      <td>0.52</td>\n      <td>59.389857</td>\n      <td>7.602530</td>\n    </tr>\n  </tbody>\n</table>\n</div>"
          },
          "metadata": {}
        }
      ],
      "execution_count": 34
    },
    {
      "id": "e505f259-3c0a-4d58-a991-d8c241cc828b",
      "cell_type": "code",
      "source": "# 5. Display sample and export\ndf_final.head()\noutput_path = 'final_stem_gender_merged2.csv'\ndf_final.to_csv(output_path, index=False)\noutput_path",
      "metadata": {
        "trusted": true
      },
      "outputs": [
        {
          "execution_count": 35,
          "output_type": "execute_result",
          "data": {
            "text/plain": "'final_stem_gender_merged2.csv'"
          },
          "metadata": {}
        }
      ],
      "execution_count": 35
    },
    {
      "id": "0dd21495-9aba-4ae9-91c7-9b01dd4bfa8c",
      "cell_type": "code",
      "source": "",
      "metadata": {
        "trusted": true
      },
      "outputs": [],
      "execution_count": null
    }
  ]
}